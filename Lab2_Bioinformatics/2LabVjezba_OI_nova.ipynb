{
 "cells": [
  {
   "cell_type": "markdown",
   "metadata": {
    "id": "3T-0ApV462gi"
   },
   "source": [
    "# Obrada informacija\n",
    "\n",
    "## Laboratorijska vježba 2\n",
    "\n",
    "U ovoj vježbi upoznat ćete se s jednom primjenom tehnika obrade informacija u bioinformatici. Ova laboratorijska vježba nosi 4 boda. Izvješće s ove laboratorijske vježbe potrebno je predati u .pdf formatu na *Moodle*. Izvješće koje predajete se mora zvati *PrezimeIme.pdf*. \n",
    "\n",
    "Osim biblioteka za rad s Fourierovom transformacijom (koristit ćemo samo numpy) koristit ćemo i biblioteku biopython koja sadrži puno korisnih alata iz područja bioinformatike. Mi ćemo je koristiti za jednostavnije baratanje bioinformatičkim tipovima podataka.\n",
    "\n",
    "Biblioteka biopython dolazi s instalacijom Anaconde, ali ju je potrebno uključiti u okolinu (*environment*) koja se koristi.\n",
    "\n",
    "Ako vježbu izvodite u Google Colab okruženju, morate instalirati biblioteku biopython. Instalaciju je potrebno izvršiti u sklopu prvog zadatka ove laboratorijske vježbe. Instalaciju izvodite sljedećim kodom: \n",
    "\n",
    "    try:\n",
    "      import google.colab\n",
    "      !pip install biopython\n",
    "    except ImportError:\n",
    "      pass\n",
    "\n",
    "Nakon izvođenja ovog koda, možete učitati biopython biblioteku. "
   ]
  },
  {
   "cell_type": "markdown",
   "metadata": {
    "id": "sDnAktLV62gk"
   },
   "source": [
    "1. Zadatak\n",
    "\n",
    "Python biblioteke potrebne za laboratorijske vježbe su numpy i biopython. Uključite ih (\"importirajte\") i ispišite verziju svake od njih pomoću \\[ime_biblioteke\\].__version__.\n",
    "\n",
    "UPUTA: Osnovna biopython biblioteka ima naziv Bio."
   ]
  },
  {
   "cell_type": "code",
   "execution_count": 1,
   "metadata": {
    "id": "zr1maIcq62gm"
   },
   "outputs": [
    {
     "name": "stdout",
     "output_type": "stream",
     "text": [
      "NumPy verzija: 2.0.2\n",
      "BioPython verzija: 1.84\n"
     ]
    }
   ],
   "source": [
    "import numpy as np\n",
    "import Bio\n",
    "\n",
    "print(\"NumPy verzija:\", np.__version__)\n",
    "print(\"BioPython verzija:\", Bio.__version__)"
   ]
  },
  {
   "cell_type": "markdown",
   "metadata": {
    "id": "B2yvoqWo62gu"
   },
   "source": [
    "2. Zadatak\n",
    "\n",
    "Uz laboratorijske vježbe dobili ste dvije datoteke s podacima. Datoteku koja sadrži referentni genom jednog soja bakterije  Escherichia coli (escherichia_coli_reference.fasta) u FASTA formatu i datoteku koja sadrži skup očitanja dobivenih sekvenciranjem (ecoli_ILL_small.fastq) u FASTQ formatu.\n",
    "\n",
    "Datoteke možete učitati koristeći metodu _parse()_ iz biblioteke Bio.SeqIO. Metoda _parse()_ vraća iterator koji možete pretvoriti u Python listu na sljedeći način:\n",
    "\n",
    "    reads = list(parse(\"ime_datoteke\", \"tip_datoteke\"))\n",
    "\n",
    "Tip datoteke postavite na \"fasta\" ili \"fastq\".\n",
    "\n",
    "Učitajte obje datoteke te ispišite broj zapisa u svakoj od njih (broj elemenata u listi). Datoteka koja sadrži referencu trebala bi imati samo jedan zapis, dok bi datoteka s očitanjima trebala sadržavati veći broj zapisa.\n",
    "\n",
    "NAPOMENA: Ako niste sigurni kako pronaći datoteke na disku iz Jupyter notebook-a, uvijek možete provjeriti radni direktorij sljedećim naredbama:\n",
    "\n",
    "    import os\n",
    "    os.getcwd()\n",
    "\n",
    "i promijeniti ga sa:\n",
    "\n",
    "    os.chdir()\n",
    "\n",
    "Ako pak radite u Google Colab okruženju, koristite upute za učitavanje datoteka s Google diska iz prve laboratorijske vježbe. "
   ]
  },
  {
   "cell_type": "code",
   "execution_count": 2,
   "metadata": {
    "id": "-ntxEv0M62gv"
   },
   "outputs": [
    {
     "name": "stdout",
     "output_type": "stream",
     "text": [
      "Broj zapisa u ocitanju reference: 1\n",
      "Broj zapisa u skupu očitanja dobivenih sekvenciranjem: 38585\n"
     ]
    }
   ],
   "source": [
    "from Bio.SeqIO import parse\n",
    "\n",
    "referenca = list(parse(\"escherichia_coli_reference_nova.fasta\", \"fasta\"))\n",
    "print(f\"Broj zapisa u ocitanju reference: {len(referenca)}\")\n",
    "\n",
    "skup_ocitanja = list(parse(\"ecoli_ILL_small_nova.fastq\", \"fastq\"))\n",
    "print(f\"Broj zapisa u skupu očitanja dobivenih sekvenciranjem: {len(skup_ocitanja)}\")"
   ]
  },
  {
   "cell_type": "markdown",
   "metadata": {
    "id": "szNf-DeN62g1"
   },
   "source": [
    "3. Zadatak\n",
    "\n",
    "Svaki zapis koji ste učitali pomoću metode _Bio.SeqIO.parse()_ sadrži Veći broj podataka od kojih su nam bitni samo neki. Naredbom print ispišite cijeli prvi zapis iz datoteke s očitanjima i iz datoteke s referencom.\n",
    "\n",
    "Vidjet ćete da oba zapisa (među ostalim podacima) sadrže identifikator zapisa i sekvencu. Identifikator zapisa možete dohvatiti pomoću\n",
    "\n",
    "    zapis.id\n",
    "\n",
    "dok sekvencu možete dohvatiti pomoću\n",
    "\n",
    "    zapis.seq\n",
    "\n",
    "Ispišite identifikator i sekvencu za prvo očitanje te identifikator i prvih 200 znakova za referentni genom E.coli.\n",
    "\n",
    "NAPOMENA: Referentni genom Escherichia coli je dugačak oko 4.5 milijuna slova"
   ]
  },
  {
   "cell_type": "code",
   "execution_count": 3,
   "metadata": {
    "id": "uJhYsfdg62g2"
   },
   "outputs": [
    {
     "name": "stdout",
     "output_type": "stream",
     "text": [
      "prvi zapis iz datoteke s očitanjima:\n",
      "ID: SRR2052522.671\n",
      "Name: SRR2052522.671\n",
      "Description: SRR2052522.671 HWI-EAS390_0001:4:1:6915:1123/1\n",
      "Number of features: 0\n",
      "Per letter annotation for: phred_quality\n",
      "Seq('GATCTGGTGACCGGGTCGCGCAAAGTGATCATCGCCATGGAACATTGCGCCAAA...TGC')\n",
      "\n",
      "prvi zapis iz datoteke s referencom:\n",
      "ID: NC_000913.3\n",
      "Name: NC_000913.3\n",
      "Description: NC_000913.3 Escherichia coli str. K-12 substr. MG1655, complete genome\n",
      "Number of features: 0\n",
      "Seq('AGCTTTTCATTCTGACTGCAACGGGCAATATGTCTCTGTGTGGATTAAAAAAAG...TTC')\n",
      "\n",
      "1. očitanje - Identifikator: SRR2052522.671, sekvenca: GATCTGGTGACCGGGTCGCGCAAAGTGATCATCGCCATGGAACATTGCGCCAAAGATGGTTCAGCAAAAATTTTGGGCCTCTGTATCATGCCACTCACTGCGCAATATCCGGATCAAATGC\n",
      "\n",
      "referenca - Identifikator: NC_000913.3, sekvenca: AGCTTTTCATTCTGACTGCAACGGGCAATATGTCTCTGTGTGGATTAAAAAAAGAGTGTCTGATAGCAGCTTCTGAACTGGTTACCTGCCGTGAGTAAATTAAAATTTTATTGACTTAGGTCACTAAATACTTTAACCAATATAGGCATAGCGCACAGACAGATAAAAATTACAGAGTACACAACATCCATGAAACGCAT\n"
     ]
    }
   ],
   "source": [
    "print(\"prvi zapis iz datoteke s očitanjima:\")\n",
    "print(skup_ocitanja[0])\n",
    "\n",
    "print()\n",
    "print(\"prvi zapis iz datoteke s referencom:\")\n",
    "print(referenca[0])\n",
    "\n",
    "print()\n",
    "print(f\"1. očitanje - Identifikator: {skup_ocitanja[0].id}, sekvenca: {skup_ocitanja[0].seq}\")\n",
    "\n",
    "print()\n",
    "print(f\"referenca - Identifikator: {referenca[0].id}, sekvenca: {referenca[0].seq[:200]}\")"
   ]
  },
  {
   "cell_type": "markdown",
   "metadata": {
    "id": "rGr9V2i262g8"
   },
   "source": [
    "4. Zadatak\n",
    "\n",
    "Da bismo sekvence DNA analizirali metodama obrade signala, moramo pojednim nukleotidima (slovima) dodijeliti brojčane vrijednosti. Napišite funkciju u Pythonu koja će primiti slovo koje predstavlja nukleotid i vratiti odgovarajuću brojčanu vrijednost. Vrijednosti dodijelite na sljedeći način:\n",
    "\n",
    "- A =  3\n",
    "- G =  2\n",
    "- C = -2\n",
    "- T = -3\n",
    "\n",
    "DNA sekvence mogu sadržavati i neke druge znakove (npr. 'N' koji označava da taj nuklotid nije poznat), njima dodijelite vrijednost 0. Također se može dogoditi da nukleotidi budu označeni i malim slovima, pa vodite računa da vaša funkcija mora vratiti ispravnu vrijendost i u tom slučaju."
   ]
  },
  {
   "cell_type": "code",
   "execution_count": 4,
   "metadata": {
    "id": "C25vmeTs62g-"
   },
   "outputs": [],
   "source": [
    "def dna_nucleotide_value(nucleotide):\n",
    "    nucleotide = nucleotide.upper()\n",
    "    values = {\n",
    "        'A': 3,\n",
    "        'G': 2,\n",
    "        'C': -2,\n",
    "        'T': -3\n",
    "    }\n",
    "    \n",
    "    return values.get(nucleotide, 0) "
   ]
  },
  {
   "cell_type": "markdown",
   "metadata": {
    "id": "AYPQrVck62hD"
   },
   "source": [
    "5. Zadatak\n",
    "\n",
    "Upotrebite napisanu funkciju da bi od prvog očitanja i od reference kreirali signal. Izračunajte korelaciju pomoću Fourierove transformacije. Zanemarite imaginarne vrijednosti."
   ]
  },
  {
   "cell_type": "code",
   "execution_count": 5,
   "metadata": {
    "id": "7kxDSpto62hF"
   },
   "outputs": [
    {
     "name": "stdout",
     "output_type": "stream",
     "text": [
      "Korelacija između referetnog genoma i prvog očitanja je sljedeća:\n",
      "[210. 110.   2. ... -17.  22.  50.]\n",
      "Najevca vrijendost korelacije se pronalazi za pomak: 2324486, i ona iznosi: 692.9999999999997\n"
     ]
    }
   ],
   "source": [
    "prvo_ocitanje_signal = list(map(dna_nucleotide_value, skup_ocitanja[0].seq))\n",
    "referenca_signal = list(map(dna_nucleotide_value, referenca[0].seq))\n",
    "\n",
    "def calculate_correlation(signal1, signal2):\n",
    "    # Dovesti oba signala na istu duljinu (zero-padding) za korelaciju\n",
    "    length = max(len(signal1), len(signal2))\n",
    "    signal1 = np.pad(signal1, (0, length - len(signal1)))\n",
    "    signal2 = np.pad(signal2, (0, length - len(signal2)))\n",
    "\n",
    "    # Fourierova transformacija signala\n",
    "    fft1 = np.fft.fft(signal1)\n",
    "    fft2 = np.fft.fft(signal2)\n",
    "\n",
    "    # Inverzna Fourierova transformacija umnoska (jedan signal je konjugiran)\n",
    "    correlation = np.fft.ifft(fft1 * np.conj(fft2))\n",
    "\n",
    "    # Zanemarujemo imaginarni dio; korelacija realnih signala mora biti realna\n",
    "    return np.real(correlation)\n",
    "\n",
    "korelacija_prvog = calculate_correlation(referenca_signal, prvo_ocitanje_signal)\n",
    "print(\"Korelacija između referetnog genoma i prvog očitanja je sljedeća:\")\n",
    "print(korelacija_prvog)\n",
    "max_index_prvog = np.argmax(korelacija_prvog)\n",
    "max_value_prvog = korelacija_prvog[max_index_prvog]\n",
    "print(f\"Najevca vrijendost korelacije se pronalazi za pomak: {max_index_prvog}, i ona iznosi: {max_value_prvog}\")"
   ]
  },
  {
   "cell_type": "markdown",
   "metadata": {
    "id": "nftB8Mj062hK"
   },
   "source": [
    "6. Zadatak\n",
    "\n",
    "Ispišite duljinu reference. Koristeći metode biblioteke _numpy_, izračunajte srednju vrijednost i standardnu devijaciju duljine očitanja (uzmite u obzir sva očitanja).\n",
    "\n",
    "Primijetit ćete da su sva očitanja jednake duljine."
   ]
  },
  {
   "cell_type": "code",
   "execution_count": 6,
   "metadata": {
    "id": "pSI7dEKd62hL"
   },
   "outputs": [
    {
     "name": "stdout",
     "output_type": "stream",
     "text": [
      "Duljina reference: 4641652\n",
      "Srednja vrijednost duljine ocitanja: 121.0\n",
      "Standardna devijacija duljine ocitanja: 0.0\n"
     ]
    }
   ],
   "source": [
    "print(f\"Duljina reference: {len(referenca[0])}\")\n",
    "\n",
    "cista_ocitanja = [list(ocitanje.seq) for ocitanje in skup_ocitanja]\n",
    "duljine_ocitanja = [len(ocitanje) for ocitanje in cista_ocitanja]\n",
    "\n",
    "mean_ocitanja = np.mean(duljine_ocitanja)\n",
    "print(f\"Srednja vrijednost duljine ocitanja: {mean_ocitanja}\")\n",
    "std_ocitanja = np.std(duljine_ocitanja)\n",
    "print(f\"Standardna devijacija duljine ocitanja: {std_ocitanja}\")"
   ]
  },
  {
   "cell_type": "markdown",
   "metadata": {
    "id": "y6A6sHAQ62hS"
   },
   "source": [
    "7. zadatak\n",
    "\n",
    "Što ako želimo izračunati korelaciju za veći broj očitanja i istu referencu? To je tipičan slučaj u bioinformatici jer uređaji za sekvenciranje proizvode tisuće i desetke tisuća očitanja koja se potom mapiraju na istu referencu.\n",
    "\n",
    "Ako korelaciju računamo izravno, potrebno ju je svaki put izračunati iz početka. Ako korelaciju računamo pomoću FFT-a, transformaciju za referencu potrebno je napraviti samo jednom.\n",
    "\n",
    "Izračunajte korelacije za prvih 10 očitanja."
   ]
  },
  {
   "cell_type": "code",
   "execution_count": 7,
   "metadata": {
    "id": "F8mSvUQb62hT"
   },
   "outputs": [
    {
     "name": "stdout",
     "output_type": "stream",
     "text": [
      "Korelacija za očitanje 1:\n",
      "[210. 110.   2. ... -17.  22.  50.]\n",
      "Najveća vrijednost korelacije: 692.9999999999997 za pomak: 2324486\n",
      "\n",
      "Korelacija za očitanje 2:\n",
      "[   9.   -3.   50. ... -122.   45.  -23.]\n",
      "Najveća vrijednost korelacije: 710.9999999999995 za pomak: 1877260\n",
      "\n",
      "Korelacija za očitanje 3:\n",
      "[ 58. -75.  78. ... 104.  31.  65.]\n",
      "Najveća vrijednost korelacije: 733.9999999999997 za pomak: 557777\n",
      "\n",
      "Korelacija za očitanje 4:\n",
      "[-19.  55.   5. ... 100.  62. -16.]\n",
      "Najveća vrijednost korelacije: 362.9999999999997 za pomak: 1144877\n",
      "\n",
      "Korelacija za očitanje 5:\n",
      "[ 153. -137.   21. ...    3.  -14.   86.]\n",
      "Najveća vrijednost korelacije: 662.9999999999997 za pomak: 3583639\n",
      "\n",
      "Korelacija za očitanje 6:\n",
      "[ 56.  46. -72. ... -34. -90. -85.]\n",
      "Najveća vrijednost korelacije: 781.9999999999995 za pomak: 4051518\n",
      "\n",
      "Korelacija za očitanje 7:\n",
      "[ 83.  -2.  17. ... 134.  46.  12.]\n",
      "Najveća vrijednost korelacije: 358.9999999999997 za pomak: 2293706\n",
      "\n",
      "Korelacija za očitanje 8:\n",
      "[ -25.   -1.   37. ...   70.   71. -157.]\n",
      "Najveća vrijednost korelacije: 800.9999999999997 za pomak: 1011323\n",
      "\n",
      "Korelacija za očitanje 9:\n",
      "[111. 134. -42. ...  37. -29. -82.]\n",
      "Najveća vrijednost korelacije: 636.9999999999995 za pomak: 628546\n",
      "\n",
      "Korelacija za očitanje 10:\n",
      "[ -3.  46. -78. ... -81.  17. -13.]\n",
      "Najveća vrijednost korelacije: 676.9999999999995 za pomak: 1497921\n",
      "\n"
     ]
    }
   ],
   "source": [
    "fft_reference = np.fft.fft(referenca_signal)\n",
    "\n",
    "# Funkcija za izračun korelacije pomoću FFT-a\n",
    "def calculate_correlation_fft(fft_ref, signal):\n",
    "    length = max(len(fft_ref), len(signal))\n",
    "    signal = np.pad(signal, (0, length - len(signal)))\n",
    "\n",
    "    fft_signal = np.fft.fft(signal)\n",
    "\n",
    "    # Inverzna Fourierova transformacija umnoška (jedan signal je konjugiran)\n",
    "    correlation = np.fft.ifft(fft_ref * np.conj(fft_signal))\n",
    "\n",
    "    return np.real(correlation)\n",
    "\n",
    "for i in range(10):\n",
    "    ocitanje_signal = list(map(dna_nucleotide_value, list(skup_ocitanja[i].seq)))\n",
    "    korelacija = calculate_correlation_fft(fft_reference, ocitanje_signal)\n",
    "\n",
    "    # Pronalazak najveće vrijednosti korelacije i indeksa\n",
    "    max_index = np.argmax(korelacija)\n",
    "    max_value = korelacija[max_index]\n",
    "\n",
    "    print(f\"Korelacija za očitanje {i+1}:\")\n",
    "    print(korelacija)\n",
    "    print(f\"Najveća vrijednost korelacije: {max_value} za pomak: {max_index}\\n\")"
   ]
  },
  {
   "cell_type": "markdown",
   "metadata": {
    "id": "y4Cme55c62hb"
   },
   "source": [
    "8. zadatak\n",
    "\n",
    "Na temelju najveće vrijednosti korelacije između reference i prvog očitanja pronađite poziciju na referenci koja je najsličnija očitanju. Pozicija odgovara vrijednosti parametra k za koji je korelacija najveća.\n",
    "\n",
    "Napišite metodu koja će primiti dva niza znakova jednake duljine, usporediti znakove na istim pozicijama i vratiti broj razlika (Hammingova udaljenost).\n",
    "\n",
    "\"Izrežite\" dio reference koji je najsličniji očitanju (iste duljine kao i očitanje) i usporedite ga s očitanjem pomoću napisane funkcije."
   ]
  },
  {
   "cell_type": "code",
   "execution_count": 8,
   "metadata": {
    "id": "Yu0fsZUt62hc"
   },
   "outputs": [
    {
     "name": "stdout",
     "output_type": "stream",
     "text": [
      "Najveća vrijednost korelacije između reference i prvog očitanja: 692.9999999999997 za pomak: 2324486\n",
      "Dio reference: GATCTGGTGACCGGGTCGCGCAAAGTGATCATCGCCATGGAACATTGCGCCAAAGATGGTTCAGCAAAAATTTTGCGCCGCTGCACCATGCCACTCACTGCGCAACATGCGGTGCATATGC\n",
      "Očitanje:      GATCTGGTGACCGGGTCGCGCAAAGTGATCATCGCCATGGAACATTGCGCCAAAGATGGTTCAGCAAAAATTTTGGGCCTCTGTATCATGCCACTCACTGCGCAATATCCGGATCAAATGC\n",
      "Hammingova udaljenost između referentnog segmenta i očitanja: 9\n"
     ]
    }
   ],
   "source": [
    "def hamming_distance(seq1, seq2):\n",
    "    if len(seq1) != len(seq2):\n",
    "        raise ValueError(\"Sekvence moraju biti jednake duljine.\")\n",
    "    \n",
    "    return sum(el1 != el2 for el1, el2 in zip(seq1, seq2))\n",
    "\n",
    "# Prvo očitanje\n",
    "prvo_ocitanje_signal = list(map(dna_nucleotide_value, list(skup_ocitanja[0].seq)))\n",
    "korelacija = calculate_correlation_fft(fft_reference, prvo_ocitanje_signal)\n",
    "\n",
    "# Pronalazak maksimalne vrijednosti korelacije i njenog indeksa (pomaka)\n",
    "max_index = np.argmax(korelacija)\n",
    "max_value = korelacija[max_index]\n",
    "\n",
    "# Izdvajanje dijela reference koji je najbliži očitanju\n",
    "reference_segment_length = len(prvo_ocitanje_signal)\n",
    "reference_segment_signal = referenca_signal[max_index:max_index + reference_segment_length]\n",
    "\n",
    "reference_segment = list(referenca[0].seq)[max_index:max_index + reference_segment_length]\n",
    "prvo_ocitanje = list(skup_ocitanja[0].seq)\n",
    "\n",
    "# Izračunavanje Hammingove udaljenosti\n",
    "hamming_dist = hamming_distance(reference_segment_signal, prvo_ocitanje_signal)\n",
    "\n",
    "print(f\"Najveća vrijednost korelacije između reference i prvog očitanja: {max_value} za pomak: {max_index}\")\n",
    "print(f\"Dio reference: {''.join(reference_segment)}\")\n",
    "print(f\"Očitanje:      {''.join(prvo_ocitanje)}\")\n",
    "print(f\"Hammingova udaljenost između referentnog segmenta i očitanja: {hamming_dist}\")"
   ]
  },
  {
   "cell_type": "markdown",
   "metadata": {
    "id": "k7Ne7pfy62hh"
   },
   "source": [
    "9. zadatak\n",
    "\n",
    "U datoteci \"ecoli_ILL_small_aln.sam\" dana su već izračunata poravnanja svih očitanja na referencu u SAM formatu. SAM je tekstualni \"tab separated\" format. U prvom stupcu se nalati identifikator očitanja, dok se u četvrtom stupcu nalazi pozicija na referenci na koju je očitanje najbolje poravnato (ostali stupci nas ne zanimaju). Također, datoteka s poravnanjima sadrži i nekoliko _header_ readaka kojima prvi stupac počinje sa znakom '@', njih također možete zanemariti.\n",
    "\n",
    "Otvorite datoteku s poravnanjima i pronađite poravnanje za prvo očitanje (identifikator očitanja u datoteci s očitanjima i datoteci s poravnanjima mora biti jednak). Usporedite poziciju u datoteci sa pozicijom koju ste dobili pomoću korelacije.\n",
    "\n",
    "UPOUTA: TSV datoteke možete otvoriti na sljedeći način:\n",
    "\n",
    "    tsv_file = open(\"file_name\")\n",
    "    tsv_rows = csv.reader(tsv_file, delimiter=\"\\t\")\n",
    "\n",
    "Varijabla _tsv\\_rows_ će sadržavati listu redaka, a svaki redak biti lista vrijednosti (po jedna za svaki stupac)."
   ]
  },
  {
   "cell_type": "code",
   "execution_count": 12,
   "metadata": {
    "id": "s4dMPoJR62hi",
    "scrolled": true
   },
   "outputs": [
    {
     "name": "stdout",
     "output_type": "stream",
     "text": [
      "Pozicija iz SAM datoteke za prvo očitanje (SRR2052522.671): 2324487\n",
      "Pozicija dobivena putem korelacije: 2324486\n",
      "Pozicije se razlikuju.\n"
     ]
    }
   ],
   "source": [
    "import csv\n",
    "\n",
    "prvo_ocitanje_id = skup_ocitanja[0].id  \n",
    "\n",
    "with open(\"ecoli_ILL_small_aln_nova.sam\") as tsv_file:\n",
    "    tsv_rows = csv.reader(tsv_file, delimiter=\"\\t\")\n",
    "    \n",
    "    for row in tsv_rows:\n",
    "        if row[0].startswith('@'):\n",
    "            continue\n",
    "        \n",
    "        if row[0] == prvo_ocitanje_id:\n",
    "            zapisan_korak = int(row[3])  \n",
    "            \n",
    "            print(f\"Pozicija iz SAM datoteke za prvo očitanje ({prvo_ocitanje_id}): {zapisan_korak}\")\n",
    "            break \n",
    "\n",
    "print(f\"Pozicija dobivena putem korelacije: {max_index}\") \n",
    "\n",
    "# Usporedba dviju pozicija\n",
    "if zapisan_korak == max_index:\n",
    "    print(\"Pozicije su jednake.\")\n",
    "else:\n",
    "    print(\"Pozicije se razlikuju.\")"
   ]
  },
  {
   "cell_type": "markdown",
   "metadata": {
    "id": "fdVXO79s62ho"
   },
   "source": [
    "10. zadatak\n",
    "\n",
    "Za prvo očitanje pozicija dobivena pomoću korelacije trabala bi biti 2324486, dok je pozicija u datoteci s poravnanjima 2324487. Razlikuju se samo za 1 pa možemo zaključiti da nam je korelacija dala dobru poziciju za poravnanje.\n",
    "\n",
    "Prisjetimo se da korelacija ne računa točno poravnanje već ju koristimo samo da bi našli kandidatne pozicije za točno računanje. Tek onda na takvim pozicijama možemo točno poravnanje izračunati pomoću algoritama dinamičkog programiranja. Ako bi primijenili dinamičko programiranje za računanje poravnanja očitanja s cijelom referencom, postupak bi bio znatno sporiji i zahtijevao bi veliku količinu radne memorije.\n",
    "\n",
    "**Ako želite** to možete isprobati pomoću algoritama za poravnanje u biblioteci _bioparser_. Lokalno poravnanje možete izračunati na sljedeći način:\n",
    "\n",
    "    from Bio import Align\n",
    "    aligner = Align.PairwiseAligner()\n",
    "    aligner.mode = \"local\"\n",
    "    alignments = aligner.align(reference[0].seq[pos-20:pos+len(read_sig)+20], reads[1].seq)\n",
    "\n",
    "Za **drugu** skupinu od 100 očitanja (101. - 200.) izračunajte korelaciju te pomoću korelacije poziciju najveće sličnosti očitanja i reference. Usporedite rezultat sa podacima u datoteci s poravnanjima. Ispišite broj očitanja za koja se dvije pozicije razlikuju za najviše 5 mjesta."
   ]
  },
  {
   "cell_type": "code",
   "execution_count": 15,
   "metadata": {
    "id": "g-f-TyxR62hp"
   },
   "outputs": [
    {
     "name": "stdout",
     "output_type": "stream",
     "text": [
      "Broj očitanja za koja se pozicija dobivena korelacijom razlikuje od SAM pozicije za najviše 5 mjesta: 41\n"
     ]
    }
   ],
   "source": [
    "alignment_positions = {}\n",
    "with open(\"ecoli_ILL_small_aln_nova.sam\") as tsv_file:\n",
    "    tsv_rows = csv.reader(tsv_file, delimiter=\"\\t\")\n",
    "    for row in tsv_rows:\n",
    "        if row[0].startswith('@'):\n",
    "            continue\n",
    "        read_id = row[0]\n",
    "        position = int(row[3])\n",
    "        alignment_positions[read_id] = position\n",
    "\n",
    "matching_count = 0\n",
    "\n",
    "for i in range(100, 200):\n",
    "    ocitanje_signal = list(map(dna_nucleotide_value, list(skup_ocitanja[i].seq)))\n",
    "    korelacija = calculate_correlation_fft(fft_reference, ocitanje_signal)\n",
    "    \n",
    "    max_index = np.argmax(korelacija)\n",
    "    predicted_position = max_index + 1  # Korekcija jer je 0-indeksirano\n",
    "\n",
    "    read_id = skup_ocitanja[i].id\n",
    "    sam_position = alignment_positions.get(read_id, None)\n",
    "    \n",
    "    if sam_position:\n",
    "        if abs(predicted_position - sam_position) <= 5:\n",
    "            matching_count += 1\n",
    "\n",
    "print(f\"Broj očitanja za koja se pozicija dobivena korelacijom razlikuje od SAM pozicije za najviše 5 mjesta: {matching_count}\")\n"
   ]
  },
  {
   "cell_type": "markdown",
   "metadata": {},
   "source": [
    "11. zadatak\n",
    "\n",
    "Očekivani broj točno pozicioniranih očitanja je otprilike 50, jer smo za sada uspješno radili samo s očitanjima na jednom lancu DNA.\n",
    "\n",
    "Odaberite jedno očitanje koje NIJE uspješno pozicionirano. Ono bi se trebalo nalaziti na drugom (reverzno-kompleentarnom) DNA lancu. Napravite reverzni komplement odabranog očitanja. Možete koristiti metodu reverse_complement klase Seq.\n",
    "\n",
    "    rc_seq = seq.reverse_complement()\n",
    "\n",
    "Izračunajte pomoću korelacije poziciju poravnanja za reverzno komplementarno očitanje, te je usporedite s pozicijom iz datoteke. Sada bi se trebale poklapati!"
   ]
  },
  {
   "cell_type": "code",
   "execution_count": 17,
   "metadata": {},
   "outputs": [
    {
     "name": "stdout",
     "output_type": "stream",
     "text": [
      "Neporavnano očitanje pronađeno s ID-jem: SRR2052522.55677\n",
      "Originalna pozicija u SAM datoteci: 1668019\n",
      "Pozicija za reverzni komplement pomoću korelacije: 1668019\n"
     ]
    }
   ],
   "source": [
    "misaligned_read = None\n",
    "misaligned_index = -1\n",
    "for i in range(100, 200):\n",
    "    ocitanje_signal = list(map(dna_nucleotide_value, list(skup_ocitanja[i].seq)))\n",
    "    korelacija = calculate_correlation_fft(fft_reference, ocitanje_signal)\n",
    "\n",
    "    max_index = np.argmax(korelacija)\n",
    "    predicted_position = max_index + 1  \n",
    "\n",
    "    read_id = skup_ocitanja[i].id\n",
    "    sam_position = alignment_positions.get(read_id, None)\n",
    "    \n",
    "    if sam_position and abs(predicted_position - sam_position) > 5:\n",
    "        misaligned_read = skup_ocitanja[i]\n",
    "        misaligned_index = i\n",
    "        break\n",
    "\n",
    "if misaligned_read:\n",
    "    print(f\"Neporavnano očitanje pronađeno s ID-jem: {misaligned_read.id}\")\n",
    "\n",
    "    rc_seq = misaligned_read.seq.reverse_complement()\n",
    "    rc_signal = list(map(dna_nucleotide_value, list(rc_seq)))\n",
    "\n",
    "    rc_korelacija = calculate_correlation_fft(fft_reference, rc_signal)\n",
    "\n",
    "    rc_max_index = np.argmax(rc_korelacija)\n",
    "    rc_predicted_position = rc_max_index + 1  \n",
    "\n",
    "    print(f\"Originalna pozicija u SAM datoteci: {sam_position}\")\n",
    "    print(f\"Pozicija za reverzni komplement pomoću korelacije: {rc_predicted_position}\")\n",
    "else:\n",
    "    print(\"Nije pronađeno neporavnano očitanje koje zadovoljava kriterije.\")\n"
   ]
  },
  {
   "cell_type": "markdown",
   "metadata": {
    "id": "wgHiDpSh62hv"
   },
   "source": [
    "12. ZAKLJUČAK\n",
    "\n",
    "\n",
    "\n",
    "Prolaskom kroz zadatke u ovoj vježbi dobili ste kratak uvod u rad s bioinformatičkim podacima i tehnikama obrade signala."
   ]
  }
 ],
 "metadata": {
  "colab": {
   "collapsed_sections": [],
   "name": "2LabVjezba_OI.ipynb",
   "provenance": []
  },
  "kernelspec": {
   "display_name": "obrInfLab2",
   "language": "python",
   "name": "python3"
  },
  "language_info": {
   "codemirror_mode": {
    "name": "ipython",
    "version": 3
   },
   "file_extension": ".py",
   "mimetype": "text/x-python",
   "name": "python",
   "nbconvert_exporter": "python",
   "pygments_lexer": "ipython3",
   "version": "3.9.0"
  }
 },
 "nbformat": 4,
 "nbformat_minor": 4
}
